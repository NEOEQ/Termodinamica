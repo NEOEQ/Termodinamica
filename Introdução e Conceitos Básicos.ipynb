{
  "nbformat": 4,
  "nbformat_minor": 0,
  "metadata": {
    "colab": {
      "name": "Cópia de Cópia de Gravity Drained Tank.ipynb",
      "provenance": [],
      "collapsed_sections": [],
      "include_colab_link": true
    },
    "kernelspec": {
      "display_name": "Python 3",
      "language": "python",
      "name": "python3"
    },
    "language_info": {
      "codemirror_mode": {
        "name": "ipython",
        "version": 3
      },
      "file_extension": ".py",
      "mimetype": "text/x-python",
      "name": "python",
      "nbconvert_exporter": "python",
      "pygments_lexer": "ipython3",
      "version": "3.7.4"
    }
  },
  "cells": [
    {
      "cell_type": "markdown",
      "metadata": {
        "id": "view-in-github",
        "colab_type": "text"
      },
      "source": [
        "<a href=\"https://colab.research.google.com/github/NEOEQ/Termodinamica/blob/main/Introdu%C3%A7%C3%A3o%20e%20Conceitos%20B%C3%A1sicos.ipynb\" target=\"_parent\"><img src=\"https://colab.research.google.com/assets/colab-badge.svg\" alt=\"Open In Colab\"/></a>"
      ]
    },
    {
      "cell_type": "markdown",
      "metadata": {
        "nbpages": {
          "level": 0,
          "link": "[](https://jckantor.github.io/CBE30338/02.02-Gravity-Drained-Tank.html)",
          "section": ""
        },
        "id": "ZKwoqbWWfE4h"
      },
      "source": [
        "<!--NAVIGATION-->\n",
        "<[Conteúdo](tag_index.html) | [1. Primeira Lei da Termodinâmica](https://jckantor.github.io/CBE30338/02.03-Blending-Tank-Simulation.html) ><p><a href=\"https://colab.research.google.com/github/jckantor/CBE30338/blob/master/docs/02.02-Gravity-Drained-Tank.ipynb\"> <img align=\"left\" src=\"https://colab.research.google.com/assets/colab-badge.svg\" alt=\"Open in Colab\" title=\"Open in Google Colaboratory\"></a><p><a href=\"https://github.com/NEOEQ/Termodinamica/blob/main/Introdu%C3%A7%C3%A3o%20e%20Conceitos%20B%C3%A1sicos.ipynb\"> <img align=\"left\" src=\"https://img.shields.io/badge/Github-Download-blue.svg\" alt=\"Download\" title=\"Download Notebook\"></a>"
      ]
    },
    {
      "cell_type": "markdown",
      "metadata": {
        "id": "VzFcLHpl3OPe",
        "nbpages": {
          "level": 1,
          "link": "[2.2 Gravity Drained Tank](https://jckantor.github.io/CBE30338/02.02-Gravity-Drained-Tank.html#2.2-Gravity-Drained-Tank)",
          "section": "2.2 Gravity Drained Tank"
        }
      },
      "source": [
        "# 1. Introdução e Conceitos Básicos"
      ]
    },
    {
      "cell_type": "code",
      "metadata": {
        "id": "QRz4mCqTLmrF"
      },
      "source": [
        ""
      ],
      "execution_count": null,
      "outputs": []
    },
    {
      "cell_type": "markdown",
      "metadata": {
        "id": "fuCtWgjaKyWp"
      },
      "source": [
        "**Notação utilizada**"
      ]
    },
    {
      "cell_type": "markdown",
      "metadata": {
        "id": "an_Uj2_-HUe6"
      },
      "source": [
        "Tabela de Notações\n",
        "\n",
        "|                  Grandeza                 | Símbolo | Unidade* |\n",
        "|:-----------------------------------------:|:-------:|:--------:|\n",
        "|                   massa                   |    m    |    $kg$  |\n",
        "|                    mol                    |    n    |   $mol$  |\n",
        "|                temperatura                |    T    |    $K$   |\n",
        "|                  pressão                  |    P    |   $Pa$   |\n",
        "|                   volume                  |    V    |   $m^3$  |\n",
        "|              energia interna              |    U    |    $J$   |\n",
        "|                  entalpia                 |    H    |    $J$   |\n",
        "|                  entropia                 |    S    |   $J/K$  |\n",
        "|              energia de Gibbs             |    G    |    $J$   |\n",
        "|            energia de Helmohltz           |    A    |    $J$   |\n",
        "|  capacidade calorífica (volume constante) |    Cv   |   $J/K$  |\n",
        "| capacidade calorífica (pressão constante) |    Cp   |   $J/K$  |\n",
        "\n",
        "Base molar\n",
        "\n",
        "|                     Grandeza                    | Símbolo |  Unidade  |\n",
        "|:-----------------------------------------------:|:-------:|:---------:|\n",
        "|                   volume molar                  |    v    | $$m^3\\cdot{mol^{-1}}$$ |\n",
        "|              energia interna molar              |    u    | $$J\\cdot{mol^{-1}}$$   |\n",
        "|                  entalpia molar                 |    h    | $J\\cdot{mol^{-1}}$   |\n",
        "|                  entropia molar                 |    s    | $J\\cdot{mol^{-1}}\\cdot{K^{-1}}$  |\n",
        "|              energia de Gibbs molar             |    g    | $J\\cdot{mol^{-1}}$   |\n",
        "|            energia de Helmohltz molar           |    a    | $J\\cdot{mol^{-1}}$   |\n",
        "|  capacidade calorífica molar (volume constante) |    cv   | $J\\cdot{mol^{-1}}\\cdot{K^{-1}}$  |\n",
        "| capacidade calorífica molar (pressão constante) |    cp   | $J\\cdot{mol^{-1}}\\cdot{K^{-1}}$  |\n",
        "\n",
        "\n",
        "\\* Sistema Internacional(SI) de Unidades.\n",
        "\n",
        "\n"
      ]
    },
    {
      "cell_type": "markdown",
      "metadata": {
        "id": "CPSQFhR5NQNZ"
      },
      "source": [
        "**Exemplo 1**: **Nível de líquido no manômetro de pressão diferencial**"
      ]
    },
    {
      "cell_type": "markdown",
      "metadata": {
        "id": "hQdDsGMMQHAo"
      },
      "source": [
        "Considere um manômetro, contendo um fluido de massa específica $\\rho$, onde a pressão medida é  $P$ e a pressão atmosférica é $P_{atm}$. Sabendo-se que a aceleração da gravidade é $g=9,067 m/s^2$, calcule o nível de líquido no manômetro. Dados: $\\rho = 2,95\\cdot10^3 kg/m^3$, $P=1,15\\cdot10^5 Pa$ e $P_{atm}=1.01325\\cdot10^5 Pa$.   \n",
        "\n",
        "\\begin{align}\n",
        "dP=\\rho gdh\n",
        "\\end{align}\n",
        "$$\\int_{P_{atm}}^{P}dP=\\rho\\ g\\int_{h_0}^{h}dh$$\n",
        "$$\\Delta h=h-h_0=(P-P_{atm})/(\\rho\\cdot{g})$$\n",
        "\\end{equation}\n",
        "onde $h_0$ é zero. "
      ]
    },
    {
      "cell_type": "code",
      "metadata": {
        "cellView": "code",
        "colab": {
          "base_uri": "https://localhost:8080/"
        },
        "id": "Jfc_Sm70MaKD",
        "outputId": "8ec38bb6-0cae-4478-84f1-bed80a46e66f"
      },
      "source": [
        "# Variáveis\n",
        "p1 = 1.15*10**5; \t\t\t  #pressão medida[N/m**2]\n",
        "p2 = 1.01325*10**5; \t\t#pressão atmosférica[N/m**2]\n",
        "rho = 2.95*10**3; \t\t\t#massa específica do fluido\n",
        "g = 9.8067              #aceleração da gravidade\n",
        "\n",
        "# Cálculos\n",
        "# Para encontrar a altura manométrica do fluido\n",
        "dp = p1-p2; \t     \t    \t#diferença de pressão\n",
        "h = dp/(rho*g); \t\t    \t#nível de líquido no manômetro\n",
        "\n",
        "# Resultados\n",
        "print ('Nível de líquido no manômetro é %f m'%h)"
      ],
      "execution_count": null,
      "outputs": [
        {
          "output_type": "stream",
          "name": "stdout",
          "text": [
            "Nível de líquido no manômetro é 0.472697 m\n"
          ]
        }
      ]
    },
    {
      "cell_type": "markdown",
      "metadata": {
        "id": "zGDdqtSj3OPj",
        "nbpages": {
          "level": 2,
          "link": "[2.2.2 Torricelli's law](https://jckantor.github.io/CBE30338/02.02-Gravity-Drained-Tank.html#2.2.2-Torricelli's-law)",
          "section": "2.2.2 Torricelli's law"
        }
      },
      "source": [
        "**Exemplo 2**: **Nível de líquido no manômetro de pressão diferencial (Efeito da temperatura)**"
      ]
    },
    {
      "cell_type": "markdown",
      "metadata": {
        "id": "CO6IgRet99p3"
      },
      "source": [
        "Considere, do exemplo anterior, que a densidade do líquido é dada pela seguinte equação: \n",
        "\n",
        "$$\\rho=\\rho_{H_2O} / (1.0+\\beta\\cdot(T-T_{0}))$$\n",
        "onde $\\rho_{H_2O}=1\\cdot10^3$ $kg/m^{3}$."
      ]
    },
    {
      "cell_type": "code",
      "metadata": {
        "colab": {
          "base_uri": "https://localhost:8080/",
          "height": 590
        },
        "id": "jVKBa5MSfvaS",
        "outputId": "21373609-7ad9-4849-87f3-f49e904b5c6b"
      },
      "source": [
        "import numpy as np # importando o pacote numpy\n",
        "import matplotlib.pyplot as plt # importando o pacote matplotlib\n",
        "\n",
        "# Variáveis\n",
        "p1 = 1.15*10**5; \t\t\t  #pressão medida[N/m**2]\n",
        "p2 = 1.01325*10**5; \t\t#pressão atmosférica[N/m**2]\n",
        "rho_h2o = 1*10**3; \t\t\t#massa específica do fluido\n",
        "g = 9.8067              #aceleração da gravidade\n",
        "beta = 0.0002\n",
        "To = 293.15\n",
        "r=np.zeros(10)\n",
        "hz = np.zeros(10)\n",
        "# Cálculos\n",
        "# Para encontrar a altura manométrica do fluido\n",
        "dp = p1-p2; \t     \t    \t#diferença de pressão\n",
        "Tin = np.linspace(293.15,313.15,10)\n",
        "i = 0\n",
        "for T in Tin: # loop da temperatura \n",
        "  rho = rho_h2o / (1.0 + beta*(T-To)) # densidade em função da temperatura\n",
        "  r[i]=rho # armazenando os valores da densidade\n",
        "  h = dp/(rho*g); \t\t    \t#nível de líquido no manômetro\n",
        "  hz[i]=h # armazenando os valores do nível\n",
        "  i=i+1 # atualizando o índice do loop\n",
        "\n",
        "# Resultados\n",
        "fig, ax = plt.subplots()\n",
        "fig, ax1 = plt.subplots()\n",
        "print ('Variação de densidade com temperatura é %5.3e m'%h)\n",
        "ax.plot(Tin,r)\n",
        "ax.set_xlabel('Temperatura [K]')\n",
        "ax.set_ylabel('Densidade [kg/m3]')\n",
        "ax.set_title('Densidade x Temperatura')\n",
        "\n",
        "ax1.plot(Tin,hz)\n",
        "ax1.set_xlabel('Temperatura [K]')\n",
        "ax1.set_ylabel('Altura [m]')\n",
        "ax1.set_title('Nível de líquido no manômetro x temperatura')\n",
        "plt.show()\n"
      ],
      "execution_count": 36,
      "outputs": [
        {
          "output_type": "stream",
          "name": "stdout",
          "text": [
            "Variação de densidade com temperatura é 1.400e+00 m\n"
          ]
        },
        {
          "output_type": "display_data",
          "data": {
            "image/png": "[encoded data removed]",
            "text/plain": [
              "<Figure size 432x288 with 1 Axes>"
            ]
          },
          "metadata": {
            "needs_background": "light"
          }
        },
        {
          "output_type": "display_data",
          "data": {
            "image/png": "[encoded data removed]",
            "text/plain": [
              "<Figure size 432x288 with 1 Axes>"
            ]
          },
          "metadata": {
            "needs_background": "light"
          }
        }
      ]
    },
    {
      "cell_type": "markdown",
      "metadata": {
        "id": "Gi3GgyLv_z0K"
      },
      "source": [
        "**Exemplo 3**: **Energia potencial e energia cinética**"
      ]
    },
    {
      "cell_type": "markdown",
      "metadata": {
        "id": "-IEv3MPfZyJt"
      },
      "source": [
        "Sabemos que a variação de energia cinética de um corpo de massa \"m\" constante é $\\Delta E_{c}=m\\cdot{\\Delta v^2}/2$ e que a variação da energia potencial é $\\Delta E_{p}=mg{\\Delta \\ell}$. Calcule a energia cinética de um corpo de massa $m=5 kg$, a uma velocidade de $30 m/s$ e energia potencial de $1,3\\cdot10^3 J$. Considere que a aceleração da gravidade é $9,8067 m/s^2$.  "
      ]
    },
    {
      "cell_type": "code",
      "metadata": {
        "colab": {
          "base_uri": "https://localhost:8080/",
          "height": 344
        },
        "id": "6OPquxxTAJD9",
        "outputId": "c816c8f9-ce36-4541-9afe-0044aa5c8c69"
      },
      "source": [
        "import numpy as np # importando o pacote numpy\n",
        "import matplotlib.pyplot as plt # importando o pacote matplotlib\n",
        "\n",
        "# Variáveis\n",
        "EP = 1.3*10**3; \t#Energia potencial[J]\n",
        "m = 5; \t\t\t#massa em kg\n",
        "v = 50; \t\t\t# velocidade em m/s\n",
        "g = 9.8067 # aceleração da gravidade\n",
        "ECi=np.zeros(10);\n",
        "vin=np.zeros(10)\n",
        "\n",
        "# Cálculos\n",
        "h = EP/(m*g);\t\t\t# altura em relação a uma referial fixo com z=0\n",
        "#Calculando a energia cinética\n",
        "EC = 0.5*m*(v**2);\t\t\t# Energia cinética em [J]\n",
        "\n",
        "# Resultados\n",
        "print ('Altura do corpo é %f m'%h)\n",
        "print ('\\nEnergia cinética é %4.3e J'%EC)\n",
        "\n",
        "vin = np.linspace(10,60,10) # faixa para variação de velocidade\n",
        "i = 0 # valor inicial para o loop \"for\"\n",
        "for v in vin: # loop da velocidade\n",
        "  EC = 0.5*m*(v**2); # cálculo da energia cinética para a velocidade atual\n",
        "  ECi[i]=EC;\n",
        "  vin[i]=v; # armazenando os valores da velocidade\n",
        "  i=i+1; # atualizando o índice do loop\n",
        "\n",
        "# Plotando a variação da energia cinética com a velocidade\n",
        "fig, ax =  plt.subplots()\n",
        "ax.plot(vin,ECi)\n",
        "ax.set_xlabel('Velocidade [m/s]')\n",
        "ax.set_ylabel('Energia Cinética [J]')\n",
        "ax.set_title('Energia Cinética x Velocidade')\n",
        "\n",
        "plt.show()\n"
      ],
      "execution_count": 14,
      "outputs": [
        {
          "output_type": "stream",
          "name": "stdout",
          "text": [
            "Altura do corpo é 26.512486 m\n",
            "\n",
            "Energia cinética é 6.250e+03 J\n"
          ]
        },
        {
          "output_type": "display_data",
          "data": {
            "image/png": "[encoded data removed]",
            "text/plain": [
              "<Figure size 432x288 with 1 Axes>"
            ]
          },
          "metadata": {
            "needs_background": "light"
          }
        }
      ]
    },
    {
      "cell_type": "markdown",
      "metadata": {
        "id": "mgId-v3zlqAr"
      },
      "source": [
        "**Exemplo 4**: **Força e pressão exercidas por um gás**"
      ]
    },
    {
      "cell_type": "markdown",
      "metadata": {
        "id": "ylrAT_yRyeiS"
      },
      "source": [
        "Sabe-se que, por definição, $P=F/A$, onde $P$ é a pressão exercida por uma força $F$ que atua perpendicularmente a uma área $A$. No sistema seguinte, um gás confinado em um recipiente cilíndrico (êmbolo-pistão) se encontra inicialmente em equilíbrio mecânico com sua vizinhança (constituída pelo conjunto êmbolo-pistão e a atmosfera), onde a força resultante da vizinhança é a mesma que a força exercida pelo gás. A partir de determinado momento, o estado termodinâmico do gás se altera, e o mesmo se expande provocando um deslocamento de $\\Delta \\ell$ no pistão. Calcule a força inicial exercida pela vizinhnaça, a pressão inicial exercida pelo gás, a variação da energia potencial do conjunto êmbolo-pistão e o trabalho exercido pelo gás.\n",
        "\n",
        "Dados: $A=0.0079 m^2$, $m=50kg$, $Patm=1.01325\\cdot10^5$, $\\Delta \\ell=0,4 m$, $g=9,81 m/s^2$. \n",
        "\n",
        "![Q4.PNG](data:image/png;base64,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)"
      ]
    },
    {
      "cell_type": "markdown",
      "metadata": {
        "id": "Y9OxSkjQVxSN"
      },
      "source": [
        "**Solução:** \n",
        "\n",
        "A vizinhança tem como agentes de força a atmosfera e o pistão. Logo, a força exercida pela atmosfera é calculada por:\n",
        "\n",
        "$$F_{atm}=P_{atm}\\cdot{A}$$\n",
        "\n",
        "Já a força exercida pelo pistão é:\n",
        "\n",
        "$$F_{p}=m_{p}\\cdot{g}$$\n",
        "\n",
        "onde $m_{p}$ é a massa do pistão. Logo, a força exercida pelo gás se equilibra com a força exercida pela vizinhança: \n",
        "\n",
        "$$F_{gás}=F_{atm}+F_{p}$$\n",
        "\n",
        "A pressão exercida pelo gás pode então ser calculada como:\n",
        "\n",
        "$$P_{gás}=F_{gás}/A$$\n"
      ]
    },
    {
      "cell_type": "code",
      "metadata": {
        "colab": {
          "base_uri": "https://localhost:8080/"
        },
        "id": "KeC9MYC9lVzP",
        "outputId": "1a724b6d-d775-4544-b255-c66b6ce4f53b"
      },
      "source": [
        "import math # importando o \"math\" -> biblioteca matemática Python \n",
        "\n",
        "# Parâmetros e Variáveis\n",
        "\n",
        "A = 0.0079; \t\t\t#area em m**2\n",
        "Patm = 1.01325*10**5; \t\t\t#pressão em N/m**2\n",
        "m = 50; \t\t\t#massa do pistão em kg\n",
        "g = 9.81; \t\t\t#aceleração da gravidade (m/s**2)\n",
        "\n",
        "\n",
        "# Cálculos e resultados\n",
        "#Determinar a força exercida pela pressão atmosférica\n",
        "Fa = Patm*A; \t\t\t#força exercida pela atmosfera em N\n",
        "Fp = m*g; \t\t\t#força peso exercida pelo pistão em N\n",
        "F = Fp+Fa; \t\t\t#força total em N\n",
        "print ('Força total exercicida pela atmosfera e pistão é %5.3e N'%F)\n",
        "\n",
        "Pg = F/A; \t\t\t#pressão do gás em N/m**2\n",
        "print ('Pressão do gás é %5.3e N/m^2'%Pg)\n",
        "\n",
        "D = 0.4; \t\t\t#deslocamento do gas em m\n",
        "W = F*D; \t\t\t#trabalho realizado pelo gas em J\n",
        "print ('Trabalho executado pelo gás é %5.3e J'%W)\n",
        "\n",
        "PE = m*g*D; \t\t\t#mudança na energia potencial em J\n",
        "print ('Mudança na energia potencial é %5.3e J'%PE)"
      ],
      "execution_count": 39,
      "outputs": [
        {
          "output_type": "stream",
          "name": "stdout",
          "text": [
            "Força total exercicida pela atmosfera e pistão é 1.291e+03 N\n",
            "Pressão do gás é 1.634e+05 N/m^2\n",
            "Trabalho executado pelo gás é 5.164e+02 J\n",
            "Mudança na energia potencial é 1.962e+02 J\n"
          ]
        }
      ]
    },
    {
      "cell_type": "markdown",
      "metadata": {
        "id": "Paa_hlfk8san"
      },
      "source": [
        "**Exemplo 5**: **Força e pressão exercidas por um gás**"
      ]
    },
    {
      "cell_type": "markdown",
      "metadata": {
        "id": "eeYuVOh28n27"
      },
      "source": [
        ""
      ]
    },
    {
      "cell_type": "code",
      "metadata": {
        "id": "fzIlV6zr8ngV"
      },
      "source": [
        ""
      ],
      "execution_count": null,
      "outputs": []
    },
    {
      "cell_type": "markdown",
      "metadata": {
        "id": "H8dmoxAJ3OPk",
        "nbpages": {
          "level": 2,
          "link": "[2.2.3 Mass Balance for Tank with Constant Cross-Sectional Area](https://jckantor.github.io/CBE30338/02.02-Gravity-Drained-Tank.html#2.2.3-Mass-Balance-for-Tank-with-Constant-Cross-Sectional-Area)",
          "section": "2.2.3 Mass Balance for Tank with Constant Cross-Sectional Area"
        }
      },
      "source": [
        "## 2.2.3 Mass Balance for Tank with Constant Cross-Sectional Area\n",
        "\n",
        "For a tank with constant cross-sectional area, such as a cylindrical or rectangular tank, the liquid height is described by a differential equation\n",
        "\n",
        "$$A\\frac{dh}{dt} = q_{in}(t) - q_{out}(t)$$\n",
        "\n",
        "where $q_{out}$ is a function of liquid height. Torricelli's law tells the outlet flow from the tank is proportional to square root of the liquid height\n",
        "\n",
        "$$ q_{out}(h) = C_v\\sqrt{h} $$"
      ]
    },
    {
      "cell_type": "markdown",
      "metadata": {
        "id": "rcxaOAy73OPl",
        "nbpages": {
          "level": 2,
          "link": "[2.2.3 Mass Balance for Tank with Constant Cross-Sectional Area](https://jckantor.github.io/CBE30338/02.02-Gravity-Drained-Tank.html#2.2.3-Mass-Balance-for-Tank-with-Constant-Cross-Sectional-Area)",
          "section": "2.2.3 Mass Balance for Tank with Constant Cross-Sectional Area"
        }
      },
      "source": [
        "Dividing by area we obtain a nonlinear ordinary differential equation \n",
        "\n",
        "$$ \\frac{dh}{dt} = - \\frac{C_V}{A}\\sqrt{h} + \\frac{1}{A}q_{in}(t) $$\n",
        "\n",
        "in our standard form where the LHS derivative appears with a constant coefficient of 1."
      ]
    },
    {
      "cell_type": "markdown",
      "metadata": {
        "id": "56j29DiG3OPm",
        "nbpages": {
          "level": 2,
          "link": "[2.2.4 Step-by-Step Approach to Nonlinear Simulation](https://jckantor.github.io/CBE30338/02.02-Gravity-Drained-Tank.html#2.2.4-Step-by-Step-Approach-to-Nonlinear-Simulation)",
          "section": "2.2.4 Step-by-Step Approach to Nonlinear Simulation"
        }
      },
      "source": [
        "## 2.2.4 Step-by-Step Approach to Nonlinear Simulation"
      ]
    },
    {
      "cell_type": "markdown",
      "metadata": {
        "id": "C-BiES7y3OPn",
        "nbpages": {
          "level": 3,
          "link": "[2.2.4.1 Step 1. Initialize Jupyter and Python](https://jckantor.github.io/CBE30338/02.02-Gravity-Drained-Tank.html#2.2.4.1-Step-1.-Initialize-Jupyter-and-Python)",
          "section": "2.2.4.1 Step 1. Initialize Jupyter and Python"
        }
      },
      "source": [
        "### 2.2.4.1 Step 1. Initialize Jupyter and Python\n",
        "\n",
        "The first step in any Python application is to initialize graphics display (if you will be creating graphic output), and import any needed libraries.  \n",
        "\n",
        "The `%matplotlib inline` is a command telling the Jupyter notebook to display any graphics inside this notebook.\n",
        "\n",
        "We then import a standard graphics library (`matplotlib.pyplot`) that will be referred to with the prefix `plt`, a standard numerical library `numpy` that will be referred to with the prefix `np`, and the function `odeint` from the `scipy.integrate` library.  "
      ]
    },
    {
      "cell_type": "code",
      "metadata": {
        "id": "lAtqLB373OPp",
        "nbpages": {
          "level": 3,
          "link": "[2.2.4.1 Step 1. Initialize Jupyter and Python](https://jckantor.github.io/CBE30338/02.02-Gravity-Drained-Tank.html#2.2.4.1-Step-1.-Initialize-Jupyter-and-Python)",
          "section": "2.2.4.1 Step 1. Initialize Jupyter and Python"
        }
      },
      "source": [
        "%matplotlib inline\n",
        "import matplotlib.pyplot as plt\n",
        "import numpy as np\n",
        "from scipy.integrate import odeint"
      ],
      "execution_count": 19,
      "outputs": []
    },
    {
      "cell_type": "markdown",
      "metadata": {
        "id": "Rz2LNFOP3OPu",
        "nbpages": {
          "level": 3,
          "link": "[2.2.4.2 Step 2. Define parameters](https://jckantor.github.io/CBE30338/02.02-Gravity-Drained-Tank.html#2.2.4.2-Step-2.-Define-parameters)",
          "section": "2.2.4.2 Step 2. Define parameters"
        }
      },
      "source": [
        "### 2.2.4.2 Step 2. Define parameters\n",
        "\n",
        "Provide values for all relevant parameters.  Use comments to describe the parameters and units."
      ]
    },
    {
      "cell_type": "code",
      "metadata": {
        "id": "qYEqVEsU3OPv",
        "nbpages": {
          "level": 3,
          "link": "[2.2.4.2 Step 2. Define parameters](https://jckantor.github.io/CBE30338/02.02-Gravity-Drained-Tank.html#2.2.4.2-Step-2.-Define-parameters)",
          "section": "2.2.4.2 Step 2. Define parameters"
        }
      },
      "source": [
        "Cv  = 0.1     # Outlet valve constant [cubic meters/min/meter^1/2]\n",
        "A   = 1.0     # Tank area [meter^2]"
      ],
      "execution_count": 20,
      "outputs": []
    },
    {
      "cell_type": "markdown",
      "metadata": {
        "id": "QqTpi1bf3OPy",
        "nbpages": {
          "level": 3,
          "link": "[2.2.4.3 Step 3. Write Functions for the RHS of the Differential Equations](https://jckantor.github.io/CBE30338/02.02-Gravity-Drained-Tank.html#2.2.4.3-Step-3.-Write-Functions-for-the-RHS-of-the-Differential-Equations)",
          "section": "2.2.4.3 Step 3. Write Functions for the RHS of the Differential Equations"
        }
      },
      "source": [
        "### 2.2.4.3 Step 3. Write Functions for the RHS of the Differential Equations"
      ]
    },
    {
      "cell_type": "code",
      "metadata": {
        "id": "nuIhX1VO3OPy",
        "nbpages": {
          "level": 3,
          "link": "[2.2.4.3 Step 3. Write Functions for the RHS of the Differential Equations](https://jckantor.github.io/CBE30338/02.02-Gravity-Drained-Tank.html#2.2.4.3-Step-3.-Write-Functions-for-the-RHS-of-the-Differential-Equations)",
          "section": "2.2.4.3 Step 3. Write Functions for the RHS of the Differential Equations"
        }
      },
      "source": [
        "# inlet flow rate in cubic meters/min\n",
        "def qin(t):\n",
        "    return 0.15\n",
        "\n",
        "def deriv(h,t):\n",
        "    return qin(t)/A - Cv*np.sqrt(h)/A"
      ],
      "execution_count": 22,
      "outputs": []
    },
    {
      "cell_type": "markdown",
      "metadata": {
        "id": "n1EJHyQd3OP1",
        "nbpages": {
          "level": 3,
          "link": "[2.2.4.4 Step 4. Choose an Initial Condition, a Time Grid, and Integrate the Differential Equation](https://jckantor.github.io/CBE30338/02.02-Gravity-Drained-Tank.html#2.2.4.4-Step-4.-Choose-an-Initial-Condition,-a-Time-Grid,-and-Integrate-the-Differential-Equation)",
          "section": "2.2.4.4 Step 4. Choose an Initial Condition, a Time Grid, and Integrate the Differential Equation"
        }
      },
      "source": [
        "### 2.2.4.4 Step 4. Choose an Initial Condition, a Time Grid, and Integrate the Differential Equation"
      ]
    },
    {
      "cell_type": "code",
      "metadata": {
        "id": "HiA2HZcb3OP1",
        "nbpages": {
          "level": 3,
          "link": "[2.2.4.4 Step 4. Choose an Initial Condition, a Time Grid, and Integrate the Differential Equation](https://jckantor.github.io/CBE30338/02.02-Gravity-Drained-Tank.html#2.2.4.4-Step-4.-Choose-an-Initial-Condition,-a-Time-Grid,-and-Integrate-the-Differential-Equation)",
          "section": "2.2.4.4 Step 4. Choose an Initial Condition, a Time Grid, and Integrate the Differential Equation"
        }
      },
      "source": [
        "IC = [0.0]\n",
        "t = np.linspace(0,200,101)\n",
        "h = odeint(deriv,IC,t)"
      ],
      "execution_count": 23,
      "outputs": []
    },
    {
      "cell_type": "markdown",
      "metadata": {
        "id": "UJ5008ZA3OP6",
        "nbpages": {
          "level": 3,
          "link": "[2.2.4.5 Step 5. Visualize and Analyze Results](https://jckantor.github.io/CBE30338/02.02-Gravity-Drained-Tank.html#2.2.4.5-Step-5.-Visualize-and-Analyze-Results)",
          "section": "2.2.4.5 Step 5. Visualize and Analyze Results"
        }
      },
      "source": [
        "### 2.2.4.5 Step 5. Visualize and Analyze Results"
      ]
    },
    {
      "cell_type": "code",
      "metadata": {
        "colab": {
          "base_uri": "https://localhost:8080/",
          "height": 294
        },
        "id": "DyQyXfpp3OP8",
        "nbpages": {
          "level": 3,
          "link": "[2.2.4.5 Step 5. Visualize and Analyze Results](https://jckantor.github.io/CBE30338/02.02-Gravity-Drained-Tank.html#2.2.4.5-Step-5.-Visualize-and-Analyze-Results)",
          "section": "2.2.4.5 Step 5. Visualize and Analyze Results"
        },
        "outputId": "80c0379d-5f08-4bee-e5f9-1377c8f7768b"
      },
      "source": [
        "plt.plot(t,h)\n",
        "\n",
        "plt.xlabel('minutes')\n",
        "plt.ylabel('meters')\n",
        "plt.title('Gravity-Drained Tank')\n",
        "plt.legend(['Liquid Level']);"
      ],
      "execution_count": 24,
      "outputs": [
        {
          "output_type": "display_data",
          "data": {
            "image/png": "[encoded data removed]",
            "text/plain": [
              "<Figure size 432x288 with 1 Axes>"
            ]
          },
          "metadata": {
            "needs_background": "light"
          }
        }
      ]
    },
    {
      "cell_type": "markdown",
      "metadata": {
        "id": "taamgWsu3OQB",
        "nbpages": {
          "level": 3,
          "link": "[2.2.4.6 Step 6.  Adjust and Repeat as Needed](https://jckantor.github.io/CBE30338/02.02-Gravity-Drained-Tank.html#2.2.4.6-Step-6.-Adjust-and-Repeat-as-Needed)",
          "section": "2.2.4.6 Step 6.  Adjust and Repeat as Needed"
        }
      },
      "source": [
        "### 2.2.4.6 Step 6.  Adjust and Repeat as Needed\n",
        "\n",
        "Rarely does a simulation provide you with the information you seek on the first try.  You will almost certainly need to revise parameter values, choose different time grids, and add visualization features to obtain the most informative results."
      ]
    },
    {
      "cell_type": "code",
      "metadata": {
        "id": "fuPuM5fV3OQC",
        "nbpages": {
          "level": 3,
          "link": "[2.2.4.6 Step 6.  Adjust and Repeat as Needed](https://jckantor.github.io/CBE30338/02.02-Gravity-Drained-Tank.html#2.2.4.6-Step-6.-Adjust-and-Repeat-as-Needed)",
          "section": "2.2.4.6 Step 6.  Adjust and Repeat as Needed"
        }
      },
      "source": [
        ""
      ],
      "execution_count": null,
      "outputs": []
    },
    {
      "cell_type": "markdown",
      "metadata": {
        "nbpages": {
          "level": 3,
          "link": "[2.2.4.6 Step 6.  Adjust and Repeat as Needed](https://jckantor.github.io/CBE30338/02.02-Gravity-Drained-Tank.html#2.2.4.6-Step-6.-Adjust-and-Repeat-as-Needed)",
          "section": "2.2.4.6 Step 6.  Adjust and Repeat as Needed"
        },
        "id": "yBQyt96HfE4m"
      },
      "source": [
        "<!--NAVIGATION-->\n",
        "< [2.1 Process Variables](https://jckantor.github.io/CBE30338/02.01-Process-Variables.html) | [Contents](toc.html) | [Tag Index](tag_index.html) | [2.3 Blending Tank Simulation](https://jckantor.github.io/CBE30338/02.03-Blending-Tank-Simulation.html) ><p><a href=\"https://colab.research.google.com/github/jckantor/CBE30338/blob/master/docs/02.02-Gravity-Drained-Tank.ipynb\"> <img align=\"left\" src=\"https://colab.research.google.com/assets/colab-badge.svg\" alt=\"Open in Colab\" title=\"Open in Google Colaboratory\"></a><p><a href=\"https://jckantor.github.io/CBE30338/02.02-Gravity-Drained-Tank.ipynb\"> <img align=\"left\" src=\"https://img.shields.io/badge/Github-Download-blue.svg\" alt=\"Download\" title=\"Download Notebook\"></a>"
      ]
    }
  ]
}