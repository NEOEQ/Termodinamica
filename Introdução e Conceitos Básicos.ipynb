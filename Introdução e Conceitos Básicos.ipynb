{
  "nbformat": 4,
  "nbformat_minor": 0,
  "metadata": {
    "colab": {
      "name": "Cópia de Cópia de Gravity Drained Tank.ipynb",
      "provenance": [],
      "collapsed_sections": [],
      "include_colab_link": true
    },
    "kernelspec": {
      "display_name": "Python 3",
      "language": "python",
      "name": "python3"
    },
    "language_info": {
      "codemirror_mode": {
        "name": "ipython",
        "version": 3
      },
      "file_extension": ".py",
      "mimetype": "text/x-python",
      "name": "python",
      "nbconvert_exporter": "python",
      "pygments_lexer": "ipython3",
      "version": "3.7.4"
    }
  },
  "cells": [
    {
      "cell_type": "markdown",
      "metadata": {
        "id": "view-in-github",
        "colab_type": "text"
      },
      "source": [
        "<a href=\"https://colab.research.google.com/github/NEOEQ/Termodinamica/blob/main/Introdu%C3%A7%C3%A3o%20e%20Conceitos%20B%C3%A1sicos.ipynb\" target=\"_parent\"><img src=\"https://colab.research.google.com/assets/colab-badge.svg\" alt=\"Open In Colab\"/></a>"
      ]
    },
    {
      "cell_type": "markdown",
      "metadata": {
        "nbpages": {
          "level": 0,
          "link": "[](https://jckantor.github.io/CBE30338/02.02-Gravity-Drained-Tank.html)",
          "section": ""
        },
        "id": "ZKwoqbWWfE4h"
      },
      "source": [
        "<!--NAVIGATION-->\n",
        "<[Conteúdo](tag_index.html) | [1. Primeira Lei da Termodinâmica](https://jckantor.github.io/CBE30338/02.03-Blending-Tank-Simulation.html) ><p><a href=\"https://colab.research.google.com/github/jckantor/CBE30338/blob/master/docs/02.02-Gravity-Drained-Tank.ipynb\"> <img align=\"left\" src=\"https://colab.research.google.com/assets/colab-badge.svg\" alt=\"Open in Colab\" title=\"Open in Google Colaboratory\"></a><p><a href=\"https://github.com/NEOEQ/Termodinamica/blob/main/Introdu%C3%A7%C3%A3o%20e%20Conceitos%20B%C3%A1sicos.ipynb\"> <img align=\"left\" src=\"https://img.shields.io/badge/Github-Download-blue.svg\" alt=\"Download\" title=\"Download Notebook\"></a>"
      ]
    },
    {
      "cell_type": "markdown",
      "metadata": {
        "id": "VzFcLHpl3OPe",
        "nbpages": {
          "level": 1,
          "link": "[2.2 Gravity Drained Tank](https://jckantor.github.io/CBE30338/02.02-Gravity-Drained-Tank.html#2.2-Gravity-Drained-Tank)",
          "section": "2.2 Gravity Drained Tank"
        }
      },
      "source": [
        "# 1. Introdução e Conceitos Básicos"
      ]
    },
    {
      "cell_type": "markdown",
      "metadata": {
        "id": "CPSQFhR5NQNZ"
      },
      "source": [
        "**Exemplo 1**: **Nível de líquido no manômetro de pressão diferencial**"
      ]
    },
    {
      "cell_type": "markdown",
      "metadata": {
        "id": "hQdDsGMMQHAo"
      },
      "source": [
        "Considere um manômetro, contendo um fluido de massa específica $\\rho$, onde a pressão medida é  $P$ e a pressão atmosférica é $P_{atm}$. Sabendo-se que a aceleração da gravidade é $g=9,067 m/s^2$, calcule o nível de líquido no manômetro. Dados: $\\rho = 2,95\\cdot10^3 kg/m^3$, $P=1,15\\cdot10^5 Pa$ e $P_{atm}=1.01325\\cdot10^5 Pa$.   \n",
        "\n",
        "$$dP=\\rho gdh$$\n",
        "$$\\int_{P_{atm}}^{P}dP=\\rho\\ g\\int_{h_0}^{h}dh$$\n",
        "$$\\Delta h=h-h_0=(P-P_{atm})/(\\rho\\cdot{g})$$\n",
        "\n",
        "onde $h_0$ é zero. "
      ]
    },
    {
      "cell_type": "code",
      "metadata": {
        "cellView": "code",
        "colab": {
          "base_uri": "https://localhost:8080/"
        },
        "id": "Jfc_Sm70MaKD",
        "outputId": "8ec38bb6-0cae-4478-84f1-bed80a46e66f"
      },
      "source": [
        "# Variáveis\n",
        "p1 = 1.15*10**5; \t\t\t  #pressão medida[N/m**2]\n",
        "p2 = 1.01325*10**5; \t\t#pressão atmosférica[N/m**2]\n",
        "rho = 2.95*10**3; \t\t\t#massa específica do fluido\n",
        "g = 9.8067              #aceleração da gravidade\n",
        "\n",
        "# Cálculos\n",
        "# Para encontrar a altura manométrica do fluido\n",
        "dp = p1-p2; \t     \t    \t#diferença de pressão\n",
        "h = dp/(rho*g); \t\t    \t#nível de líquido no manômetro\n",
        "\n",
        "# Resultados\n",
        "print ('Nível de líquido no manômetro é %f m'%h)"
      ],
      "execution_count": null,
      "outputs": [
        {
          "output_type": "stream",
          "name": "stdout",
          "text": [
            "Nível de líquido no manômetro é 0.472697 m\n"
          ]
        }
      ]
    },
    {
      "cell_type": "markdown",
      "metadata": {
        "id": "zGDdqtSj3OPj",
        "nbpages": {
          "level": 2,
          "link": "[2.2.2 Torricelli's law](https://jckantor.github.io/CBE30338/02.02-Gravity-Drained-Tank.html#2.2.2-Torricelli's-law)",
          "section": "2.2.2 Torricelli's law"
        }
      },
      "source": [
        "**Exemplo 2**: **Nível de líquido no manômetro de pressão diferencial (Efeito da temperatura)**"
      ]
    },
    {
      "cell_type": "markdown",
      "metadata": {
        "id": "CO6IgRet99p3"
      },
      "source": [
        "Considere, do exemplo anterior, que a densidade do líquido é dada pela seguinte equação: \n",
        "$$\\rho=\\rho_{H_2O} / (1.0+\\beta\\cdot(T-T_{0}))$$\n",
        "onde $\\rho_{H_2O}=1\\cdot10^3$."
      ]
    },
    {
      "cell_type": "code",
      "metadata": {
        "colab": {
          "base_uri": "https://localhost:8080/",
          "height": 574
        },
        "id": "jVKBa5MSfvaS",
        "outputId": "eacadc3f-9391-4b30-f000-459b32faa8a8"
      },
      "source": [
        "import numpy as np\n",
        "import matplotlib.pyplot as plt\n",
        "\n",
        "# Variáveis\n",
        "p1 = 1.15*10**5; \t\t\t  #pressão medida[N/m**2]\n",
        "p2 = 1.01325*10**5; \t\t#pressão atmosférica[N/m**2]\n",
        "rho_h2o = 1*10**3; \t\t\t#massa específica do fluido\n",
        "g = 9.8067              #aceleração da gravidade\n",
        "beta = 0.0002\n",
        "To = 293.15\n",
        "r=np.zeros(10)\n",
        "hz = np.zeros(10)\n",
        "# Cálculos\n",
        "# Para encontrar a altura manométrica do fluido\n",
        "dp = p1-p2; \t     \t    \t#diferença de pressão\n",
        "Tin = np.linspace(293.15,313.15,10)\n",
        "i = 0\n",
        "for T in Tin:\n",
        "  rho = rho_h2o / (1.0 + beta*(T-To))\n",
        "  r[i]=rho\n",
        "  h = dp/(rho*g); \t\t    \t#nível de líquido no manômetro\n",
        "  hz[i]=h\n",
        "  i=i+1\n",
        "\n",
        "# Resultados\n",
        "fig, ax = plt.subplots()\n",
        "fig, ax1 = plt.subplots()\n",
        "print ('Variação de densidade com temperatura é %f m'%h)\n",
        "ax.plot(Tin,r)\n",
        "ax.set_xlabel('Temperature [K]')\n",
        "ax.set_ylabel('Density [kg/m3]')\n",
        "print ('Nível de líquido no manômetro é %f m'%h)\n",
        "ax1.plot(Tin,hz)\n",
        "ax1.set_xlabel('Temperature [K]')\n",
        "ax1.set_ylabel('Altura [m]')\n",
        "plt.show()\n"
      ],
      "execution_count": 23,
      "outputs": [
        {
          "output_type": "stream",
          "name": "stdout",
          "text": [
            "Variação de densidade com temperatura é 1.400033 m\n",
            "Nível de líquido no manômetro é 1.400033 m\n"
          ]
        },
        {
          "output_type": "display_data",
          "data": {
            "image/png": "[encoded data removed]",
            "text/plain": [
              "<Figure size 432x288 with 1 Axes>"
            ]
          },
          "metadata": {
            "needs_background": "light"
          }
        },
        {
          "output_type": "display_data",
          "data": {
            "image/png": "[encoded data removed]",
            "text/plain": [
              "<Figure size 432x288 with 1 Axes>"
            ]
          },
          "metadata": {
            "needs_background": "light"
          }
        }
      ]
    },
    {
      "cell_type": "markdown",
      "metadata": {
        "id": "H8dmoxAJ3OPk",
        "nbpages": {
          "level": 2,
          "link": "[2.2.3 Mass Balance for Tank with Constant Cross-Sectional Area](https://jckantor.github.io/CBE30338/02.02-Gravity-Drained-Tank.html#2.2.3-Mass-Balance-for-Tank-with-Constant-Cross-Sectional-Area)",
          "section": "2.2.3 Mass Balance for Tank with Constant Cross-Sectional Area"
        }
      },
      "source": [
        "## 2.2.3 Mass Balance for Tank with Constant Cross-Sectional Area\n",
        "\n",
        "For a tank with constant cross-sectional area, such as a cylindrical or rectangular tank, the liquid height is described by a differential equation\n",
        "\n",
        "$$A\\frac{dh}{dt} = q_{in}(t) - q_{out}(t)$$\n",
        "\n",
        "where $q_{out}$ is a function of liquid height. Torricelli's law tells the outlet flow from the tank is proportional to square root of the liquid height\n",
        "\n",
        "$$ q_{out}(h) = C_v\\sqrt{h} $$"
      ]
    },
    {
      "cell_type": "markdown",
      "metadata": {
        "id": "rcxaOAy73OPl",
        "nbpages": {
          "level": 2,
          "link": "[2.2.3 Mass Balance for Tank with Constant Cross-Sectional Area](https://jckantor.github.io/CBE30338/02.02-Gravity-Drained-Tank.html#2.2.3-Mass-Balance-for-Tank-with-Constant-Cross-Sectional-Area)",
          "section": "2.2.3 Mass Balance for Tank with Constant Cross-Sectional Area"
        }
      },
      "source": [
        "Dividing by area we obtain a nonlinear ordinary differential equation \n",
        "\n",
        "$$ \\frac{dh}{dt} = - \\frac{C_V}{A}\\sqrt{h} + \\frac{1}{A}q_{in}(t) $$\n",
        "\n",
        "in our standard form where the LHS derivative appears with a constant coefficient of 1."
      ]
    },
    {
      "cell_type": "markdown",
      "metadata": {
        "id": "56j29DiG3OPm",
        "nbpages": {
          "level": 2,
          "link": "[2.2.4 Step-by-Step Approach to Nonlinear Simulation](https://jckantor.github.io/CBE30338/02.02-Gravity-Drained-Tank.html#2.2.4-Step-by-Step-Approach-to-Nonlinear-Simulation)",
          "section": "2.2.4 Step-by-Step Approach to Nonlinear Simulation"
        }
      },
      "source": [
        "## 2.2.4 Step-by-Step Approach to Nonlinear Simulation"
      ]
    },
    {
      "cell_type": "markdown",
      "metadata": {
        "id": "C-BiES7y3OPn",
        "nbpages": {
          "level": 3,
          "link": "[2.2.4.1 Step 1. Initialize Jupyter and Python](https://jckantor.github.io/CBE30338/02.02-Gravity-Drained-Tank.html#2.2.4.1-Step-1.-Initialize-Jupyter-and-Python)",
          "section": "2.2.4.1 Step 1. Initialize Jupyter and Python"
        }
      },
      "source": [
        "### 2.2.4.1 Step 1. Initialize Jupyter and Python\n",
        "\n",
        "The first step in any Python application is to initialize graphics display (if you will be creating graphic output), and import any needed libraries.  \n",
        "\n",
        "The `%matplotlib inline` is a command telling the Jupyter notebook to display any graphics inside this notebook.\n",
        "\n",
        "We then import a standard graphics library (`matplotlib.pyplot`) that will be referred to with the prefix `plt`, a standard numerical library `numpy` that will be referred to with the prefix `np`, and the function `odeint` from the `scipy.integrate` library.  "
      ]
    },
    {
      "cell_type": "code",
      "metadata": {
        "id": "lAtqLB373OPp",
        "nbpages": {
          "level": 3,
          "link": "[2.2.4.1 Step 1. Initialize Jupyter and Python](https://jckantor.github.io/CBE30338/02.02-Gravity-Drained-Tank.html#2.2.4.1-Step-1.-Initialize-Jupyter-and-Python)",
          "section": "2.2.4.1 Step 1. Initialize Jupyter and Python"
        }
      },
      "source": [
        "%matplotlib inline\n",
        "import matplotlib.pyplot as plt\n",
        "import numpy as np\n",
        "from scipy.integrate import odeint"
      ],
      "execution_count": null,
      "outputs": []
    },
    {
      "cell_type": "markdown",
      "metadata": {
        "id": "Rz2LNFOP3OPu",
        "nbpages": {
          "level": 3,
          "link": "[2.2.4.2 Step 2. Define parameters](https://jckantor.github.io/CBE30338/02.02-Gravity-Drained-Tank.html#2.2.4.2-Step-2.-Define-parameters)",
          "section": "2.2.4.2 Step 2. Define parameters"
        }
      },
      "source": [
        "### 2.2.4.2 Step 2. Define parameters\n",
        "\n",
        "Provide values for all relevant parameters.  Use comments to describe the parameters and units."
      ]
    },
    {
      "cell_type": "code",
      "metadata": {
        "id": "qYEqVEsU3OPv",
        "nbpages": {
          "level": 3,
          "link": "[2.2.4.2 Step 2. Define parameters](https://jckantor.github.io/CBE30338/02.02-Gravity-Drained-Tank.html#2.2.4.2-Step-2.-Define-parameters)",
          "section": "2.2.4.2 Step 2. Define parameters"
        }
      },
      "source": [
        "Cv  = 0.1     # Outlet valve constant [cubic meters/min/meter^1/2]\n",
        "A   = 1.0     # Tank area [meter^2]"
      ],
      "execution_count": null,
      "outputs": []
    },
    {
      "cell_type": "markdown",
      "metadata": {
        "id": "QqTpi1bf3OPy",
        "nbpages": {
          "level": 3,
          "link": "[2.2.4.3 Step 3. Write Functions for the RHS of the Differential Equations](https://jckantor.github.io/CBE30338/02.02-Gravity-Drained-Tank.html#2.2.4.3-Step-3.-Write-Functions-for-the-RHS-of-the-Differential-Equations)",
          "section": "2.2.4.3 Step 3. Write Functions for the RHS of the Differential Equations"
        }
      },
      "source": [
        "### 2.2.4.3 Step 3. Write Functions for the RHS of the Differential Equations"
      ]
    },
    {
      "cell_type": "code",
      "metadata": {
        "id": "nuIhX1VO3OPy",
        "nbpages": {
          "level": 3,
          "link": "[2.2.4.3 Step 3. Write Functions for the RHS of the Differential Equations](https://jckantor.github.io/CBE30338/02.02-Gravity-Drained-Tank.html#2.2.4.3-Step-3.-Write-Functions-for-the-RHS-of-the-Differential-Equations)",
          "section": "2.2.4.3 Step 3. Write Functions for the RHS of the Differential Equations"
        }
      },
      "source": [
        "# inlet flow rate in cubic meters/min\n",
        "def qin(t):\n",
        "    return 0.15\n",
        "\n",
        "def deriv(h,t):\n",
        "    return qin(t)/A - Cv*np.sqrt(h)/A"
      ],
      "execution_count": null,
      "outputs": []
    },
    {
      "cell_type": "markdown",
      "metadata": {
        "id": "n1EJHyQd3OP1",
        "nbpages": {
          "level": 3,
          "link": "[2.2.4.4 Step 4. Choose an Initial Condition, a Time Grid, and Integrate the Differential Equation](https://jckantor.github.io/CBE30338/02.02-Gravity-Drained-Tank.html#2.2.4.4-Step-4.-Choose-an-Initial-Condition,-a-Time-Grid,-and-Integrate-the-Differential-Equation)",
          "section": "2.2.4.4 Step 4. Choose an Initial Condition, a Time Grid, and Integrate the Differential Equation"
        }
      },
      "source": [
        "### 2.2.4.4 Step 4. Choose an Initial Condition, a Time Grid, and Integrate the Differential Equation"
      ]
    },
    {
      "cell_type": "code",
      "metadata": {
        "id": "HiA2HZcb3OP1",
        "nbpages": {
          "level": 3,
          "link": "[2.2.4.4 Step 4. Choose an Initial Condition, a Time Grid, and Integrate the Differential Equation](https://jckantor.github.io/CBE30338/02.02-Gravity-Drained-Tank.html#2.2.4.4-Step-4.-Choose-an-Initial-Condition,-a-Time-Grid,-and-Integrate-the-Differential-Equation)",
          "section": "2.2.4.4 Step 4. Choose an Initial Condition, a Time Grid, and Integrate the Differential Equation"
        }
      },
      "source": [
        "IC = [0.0]\n",
        "t = np.linspace(0,200,101)\n",
        "h = odeint(deriv,IC,t)"
      ],
      "execution_count": null,
      "outputs": []
    },
    {
      "cell_type": "markdown",
      "metadata": {
        "id": "UJ5008ZA3OP6",
        "nbpages": {
          "level": 3,
          "link": "[2.2.4.5 Step 5. Visualize and Analyze Results](https://jckantor.github.io/CBE30338/02.02-Gravity-Drained-Tank.html#2.2.4.5-Step-5.-Visualize-and-Analyze-Results)",
          "section": "2.2.4.5 Step 5. Visualize and Analyze Results"
        }
      },
      "source": [
        "### 2.2.4.5 Step 5. Visualize and Analyze Results"
      ]
    },
    {
      "cell_type": "code",
      "metadata": {
        "colab": {
          "base_uri": "https://localhost:8080/",
          "height": 294
        },
        "id": "DyQyXfpp3OP8",
        "nbpages": {
          "level": 3,
          "link": "[2.2.4.5 Step 5. Visualize and Analyze Results](https://jckantor.github.io/CBE30338/02.02-Gravity-Drained-Tank.html#2.2.4.5-Step-5.-Visualize-and-Analyze-Results)",
          "section": "2.2.4.5 Step 5. Visualize and Analyze Results"
        },
        "outputId": "be349d5d-4806-4249-e3c5-85f14d31ff28"
      },
      "source": [
        "plt.plot(t,h)\n",
        "\n",
        "plt.xlabel('minutes')\n",
        "plt.ylabel('meters')\n",
        "plt.title('Gravity-Drained Tank')\n",
        "plt.legend(['Liquid Level']);"
      ],
      "execution_count": null,
      "outputs": [
        {
          "data": {
            "image/png": "[encoded data removed]",
            "text/plain": [
              "<Figure size 432x288 with 1 Axes>"
            ]
          },
          "metadata": {
            "tags": []
          },
          "output_type": "display_data"
        }
      ]
    },
    {
      "cell_type": "markdown",
      "metadata": {
        "id": "taamgWsu3OQB",
        "nbpages": {
          "level": 3,
          "link": "[2.2.4.6 Step 6.  Adjust and Repeat as Needed](https://jckantor.github.io/CBE30338/02.02-Gravity-Drained-Tank.html#2.2.4.6-Step-6.-Adjust-and-Repeat-as-Needed)",
          "section": "2.2.4.6 Step 6.  Adjust and Repeat as Needed"
        }
      },
      "source": [
        "### 2.2.4.6 Step 6.  Adjust and Repeat as Needed\n",
        "\n",
        "Rarely does a simulation provide you with the information you seek on the first try.  You will almost certainly need to revise parameter values, choose different time grids, and add visualization features to obtain the most informative results."
      ]
    },
    {
      "cell_type": "code",
      "metadata": {
        "id": "fuPuM5fV3OQC",
        "nbpages": {
          "level": 3,
          "link": "[2.2.4.6 Step 6.  Adjust and Repeat as Needed](https://jckantor.github.io/CBE30338/02.02-Gravity-Drained-Tank.html#2.2.4.6-Step-6.-Adjust-and-Repeat-as-Needed)",
          "section": "2.2.4.6 Step 6.  Adjust and Repeat as Needed"
        }
      },
      "source": [
        ""
      ],
      "execution_count": null,
      "outputs": []
    },
    {
      "cell_type": "markdown",
      "metadata": {
        "nbpages": {
          "level": 3,
          "link": "[2.2.4.6 Step 6.  Adjust and Repeat as Needed](https://jckantor.github.io/CBE30338/02.02-Gravity-Drained-Tank.html#2.2.4.6-Step-6.-Adjust-and-Repeat-as-Needed)",
          "section": "2.2.4.6 Step 6.  Adjust and Repeat as Needed"
        },
        "id": "yBQyt96HfE4m"
      },
      "source": [
        "<!--NAVIGATION-->\n",
        "< [2.1 Process Variables](https://jckantor.github.io/CBE30338/02.01-Process-Variables.html) | [Contents](toc.html) | [Tag Index](tag_index.html) | [2.3 Blending Tank Simulation](https://jckantor.github.io/CBE30338/02.03-Blending-Tank-Simulation.html) ><p><a href=\"https://colab.research.google.com/github/jckantor/CBE30338/blob/master/docs/02.02-Gravity-Drained-Tank.ipynb\"> <img align=\"left\" src=\"https://colab.research.google.com/assets/colab-badge.svg\" alt=\"Open in Colab\" title=\"Open in Google Colaboratory\"></a><p><a href=\"https://jckantor.github.io/CBE30338/02.02-Gravity-Drained-Tank.ipynb\"> <img align=\"left\" src=\"https://img.shields.io/badge/Github-Download-blue.svg\" alt=\"Download\" title=\"Download Notebook\"></a>"
      ]
    }
  ]
}